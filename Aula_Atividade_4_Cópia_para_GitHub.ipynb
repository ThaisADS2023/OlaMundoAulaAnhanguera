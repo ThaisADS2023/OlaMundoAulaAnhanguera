{
  "nbformat": 4,
  "nbformat_minor": 0,
  "metadata": {
    "colab": {
      "provenance": [],
      "authorship_tag": "ABX9TyN1VpWwgbsOWpDmnH4XDB0M",
      "include_colab_link": true
    },
    "kernelspec": {
      "name": "python3",
      "display_name": "Python 3"
    },
    "language_info": {
      "name": "python"
    }
  },
  "cells": [
    {
      "cell_type": "markdown",
      "metadata": {
        "id": "view-in-github",
        "colab_type": "text"
      },
      "source": [
        "<a href=\"https://colab.research.google.com/github/ThaisADS2023/OlaMundoAulaAnhanguera/blob/main/Aula_Atividade_4_C%C3%B3pia_para_GitHub.ipynb\" target=\"_parent\"><img src=\"https://colab.research.google.com/assets/colab-badge.svg\" alt=\"Open In Colab\"/></a>"
      ]
    },
    {
      "cell_type": "markdown",
      "source": [
        "Nome: Thaís dos Santos Bulhões\n",
        "RA: 3487763402 -\n",
        "Curso: Análise e Desenvolvimento de Sistemas - 2023.2\n"
      ],
      "metadata": {
        "id": "TzsUZwRYB4P2"
      }
    },
    {
      "cell_type": "code",
      "source": [
        "print(\"Olá Mundo!\")"
      ],
      "metadata": {
        "colab": {
          "base_uri": "https://localhost:8080/"
        },
        "id": "b-8QHjyrBh1X",
        "outputId": "e0ce6ee0-0fd1-45b8-df9b-efa222f8f2c4"
      },
      "execution_count": 1,
      "outputs": [
        {
          "output_type": "stream",
          "name": "stdout",
          "text": [
            "Olá Mundo!\n"
          ]
        }
      ]
    }
  ]
}